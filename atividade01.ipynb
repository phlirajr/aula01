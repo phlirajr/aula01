{
 "cells": [
  {
   "cell_type": "markdown",
   "metadata": {},
   "source": [
    "Senac - Técnicas de Machine Learning\n",
    "Profa.: Camila Dantas\n",
    "\n",
    "Atividade 01 - Execute os programas abaixo e comente o que acontece."
   ]
  },
  {
   "cell_type": "code",
   "execution_count": 2,
   "metadata": {},
   "outputs": [
    {
     "name": "stdout",
     "output_type": "stream",
     "text": [
      "A soma de a + b é: soma\n"
     ]
    }
   ],
   "source": [
    "a = 3\n",
    "b = 4\n",
    "soma = a + b\n",
    "print('A soma de a + b é: soma')"
   ]
  },
  {
   "cell_type": "markdown",
   "metadata": {},
   "source": [
    "A saída exibida é a string contida dentro da função print. Não há retorno do valor das variáveis pois elas não são declaradas."
   ]
  },
  {
   "cell_type": "code",
   "execution_count": 3,
   "metadata": {},
   "outputs": [
    {
     "name": "stdout",
     "output_type": "stream",
     "text": [
      "A soma de a + b é: 7\n"
     ]
    }
   ],
   "source": [
    "a = 3\n",
    "b = 4\n",
    "soma = a + b\n",
    "print('A soma de a + b é:', soma)"
   ]
  },
  {
   "cell_type": "markdown",
   "metadata": {},
   "source": [
    "A saída exibida é resultado de dois parâmetros passados na função print, separados por vírgula. Na primeira parte, a string delimitada pelo uso de aspas simples e, em seguida, o valor atribuído a variável soma."
   ]
  },
  {
   "cell_type": "code",
   "execution_count": 4,
   "metadata": {},
   "outputs": [
    {
     "name": "stdout",
     "output_type": "stream",
     "text": [
      "A soma de 3 + 4 é: 7\n"
     ]
    }
   ],
   "source": [
    "a = 3\n",
    "b = 4\n",
    "soma = a + b\n",
    "print('A soma de',a,'+',b,'é:', soma)"
   ]
  },
  {
   "cell_type": "markdown",
   "metadata": {},
   "source": [
    "Analogamente ao exemplo anterior, a solução é resultado dos parâmetros passados na função print. Uma outra maneira para exibir o mesmo resultado, poderia ser feita utilizando-se string literiais formatadas (f-string). Reescrevendo a célula acima:"
   ]
  },
  {
   "cell_type": "code",
   "execution_count": 5,
   "metadata": {},
   "outputs": [
    {
     "name": "stdout",
     "output_type": "stream",
     "text": [
      "A soma de 3 + 4 é: 7\n"
     ]
    }
   ],
   "source": [
    "a = 3\n",
    "b = 4\n",
    "soma = a + b\n",
    "print(f'A soma de {a} + {b} é: {soma}')"
   ]
  },
  {
   "cell_type": "markdown",
   "metadata": {},
   "source": [
    "Nesse caso, o \"f\" antes das aspas simples indica a formatação e as variavéis são declaradas dentro das chaves, sem a necessidade de separá-las por vírgulas do conteúdo da string. "
   ]
  },
  {
   "cell_type": "code",
   "execution_count": 6,
   "metadata": {},
   "outputs": [
    {
     "name": "stdout",
     "output_type": "stream",
     "text": [
      "A soma de 3 + 4 é: 34\n"
     ]
    }
   ],
   "source": [
    "PROMPT_1 = 'Digite o primeiro número: '\n",
    "PROMPT_2 = 'Digite o segundo número: '\n",
    "\n",
    "a = input(PROMPT_1)\n",
    "b = input(PROMPT_2)\n",
    "\n",
    "soma = a + b\n",
    "\n",
    "print('A soma de',a,'+',b,'é:', soma)"
   ]
  },
  {
   "cell_type": "markdown",
   "metadata": {},
   "source": [
    "Diferentemente do que aconteceu acima, uma vez que as variáveis tiveram seus valores atribuídos através da função input, elas são do tipo string. Sendo assim, ao realizar a operação de soma, o interpretador pyton, de fato, executa uma concatenação entre as variavéis e não uma operção de soma."
   ]
  },
  {
   "cell_type": "code",
   "execution_count": 9,
   "metadata": {},
   "outputs": [
    {
     "name": "stdout",
     "output_type": "stream",
     "text": [
      "A soma de 3 + 4 é: 7\n"
     ]
    }
   ],
   "source": [
    "a_str = input('Digite o primeiro número: ')\n",
    "b_str = input('Digite o segundo número: ')\n",
    "\n",
    "a_int = int(a_str)\n",
    "b_int = int(b_str)\n",
    "\n",
    "soma = a_int + b_int\n",
    "\n",
    "print('A soma de',a_int,'+',b_int,'é igual a', soma)"
   ]
  },
  {
   "cell_type": "markdown",
   "metadata": {},
   "source": [
    "A fim de corrigir o problema ocorrido na célula anterior, os valores atribuídos às variavéis através da funçaõ input são em seguida convertidas para o tipo inteiro, através da funçaõ int(). Desse modo, é possível realizar a operação de soma e obtero resultado esperado."
   ]
  },
  {
   "cell_type": "code",
   "execution_count": 10,
   "metadata": {},
   "outputs": [
    {
     "name": "stdout",
     "output_type": "stream",
     "text": [
      "A soma de 3 + 4 é: 7\n"
     ]
    }
   ],
   "source": [
    "a = int(input('Digite o primeiro número: '))\n",
    "b = int(input('Digite o segundo número: '))\n",
    "\n",
    "soma = a + b\n",
    "\n",
    "print('A soma de',a,'+',b,'é igual a', soma)"
   ]
  },
  {
   "cell_type": "markdown",
   "metadata": {},
   "source": [
    "Nessa última célula é apresnetada uma forma mais direta para a conversão de um tipo string em inteiro"
   ]
  }
 ],
 "metadata": {
  "kernelspec": {
   "display_name": "Python 3.10.0 64-bit",
   "language": "python",
   "name": "python3"
  },
  "language_info": {
   "codemirror_mode": {
    "name": "ipython",
    "version": 3
   },
   "file_extension": ".py",
   "mimetype": "text/x-python",
   "name": "python",
   "nbconvert_exporter": "python",
   "pygments_lexer": "ipython3",
   "version": "3.10.0"
  },
  "orig_nbformat": 4,
  "vscode": {
   "interpreter": {
    "hash": "32b087ebe7d51fca6931e9bc956754ea46a9bf5139b676961814778e7c952172"
   }
  }
 },
 "nbformat": 4,
 "nbformat_minor": 2
}
